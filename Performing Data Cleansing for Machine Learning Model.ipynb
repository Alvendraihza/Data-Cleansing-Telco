{
 "cells": [
  {
   "cell_type": "markdown",
   "metadata": {},
   "source": [
    "# Performing Data Cleansing for Machine Learning Model\n",
    "\n",
    "by Muhammad Alvendra Ihza"
   ]
  },
  {
   "cell_type": "markdown",
   "metadata": {},
   "source": [
    "### Import library and dataset"
   ]
  },
  {
   "cell_type": "code",
   "execution_count": 1,
   "metadata": {},
   "outputs": [],
   "source": [
    "#import library\n",
    "import pandas as pd\n",
    "import matplotlib.pyplot as plt\n",
    "import seaborn as sns\n",
    "pd.options.display.max_columns = 50"
   ]
  },
  {
   "cell_type": "code",
   "execution_count": 2,
   "metadata": {},
   "outputs": [],
   "source": [
    "#import dataset\n",
    "df_load = pd.read_csv(r'https://dqlab-dataset.s3-ap-southeast-1.amazonaws.com/dqlab_telco.csv')"
   ]
  },
  {
   "cell_type": "code",
   "execution_count": 3,
   "metadata": {},
   "outputs": [
    {
     "data": {
      "text/plain": [
       "(7113, 22)"
      ]
     },
     "execution_count": 3,
     "metadata": {},
     "output_type": "execute_result"
    }
   ],
   "source": [
    "#display the number of rows and columns\n",
    "df_load.shape"
   ]
  },
  {
   "cell_type": "code",
   "execution_count": 4,
   "metadata": {},
   "outputs": [
    {
     "data": {
      "text/html": [
       "<div>\n",
       "<style scoped>\n",
       "    .dataframe tbody tr th:only-of-type {\n",
       "        vertical-align: middle;\n",
       "    }\n",
       "\n",
       "    .dataframe tbody tr th {\n",
       "        vertical-align: top;\n",
       "    }\n",
       "\n",
       "    .dataframe thead th {\n",
       "        text-align: right;\n",
       "    }\n",
       "</style>\n",
       "<table border=\"1\" class=\"dataframe\">\n",
       "  <thead>\n",
       "    <tr style=\"text-align: right;\">\n",
       "      <th></th>\n",
       "      <th>UpdatedAt</th>\n",
       "      <th>customerID</th>\n",
       "      <th>gender</th>\n",
       "      <th>SeniorCitizen</th>\n",
       "      <th>Partner</th>\n",
       "      <th>Dependents</th>\n",
       "      <th>tenure</th>\n",
       "      <th>PhoneService</th>\n",
       "      <th>MultipleLines</th>\n",
       "      <th>InternetService</th>\n",
       "      <th>OnlineSecurity</th>\n",
       "      <th>OnlineBackup</th>\n",
       "      <th>DeviceProtection</th>\n",
       "      <th>TechSupport</th>\n",
       "      <th>StreamingTV</th>\n",
       "      <th>StreamingMovies</th>\n",
       "      <th>Contract</th>\n",
       "      <th>PaperlessBilling</th>\n",
       "      <th>PaymentMethod</th>\n",
       "      <th>MonthlyCharges</th>\n",
       "      <th>TotalCharges</th>\n",
       "      <th>Churn</th>\n",
       "    </tr>\n",
       "  </thead>\n",
       "  <tbody>\n",
       "    <tr>\n",
       "      <th>0</th>\n",
       "      <td>202006</td>\n",
       "      <td>45759018157</td>\n",
       "      <td>Female</td>\n",
       "      <td>0</td>\n",
       "      <td>Yes</td>\n",
       "      <td>No</td>\n",
       "      <td>1.0</td>\n",
       "      <td>No</td>\n",
       "      <td>No phone service</td>\n",
       "      <td>DSL</td>\n",
       "      <td>No</td>\n",
       "      <td>Yes</td>\n",
       "      <td>No</td>\n",
       "      <td>No</td>\n",
       "      <td>No</td>\n",
       "      <td>No</td>\n",
       "      <td>Month-to-month</td>\n",
       "      <td>Yes</td>\n",
       "      <td>Electronic check</td>\n",
       "      <td>29.85</td>\n",
       "      <td>29.85</td>\n",
       "      <td>No</td>\n",
       "    </tr>\n",
       "    <tr>\n",
       "      <th>1</th>\n",
       "      <td>202006</td>\n",
       "      <td>45557574145</td>\n",
       "      <td>Male</td>\n",
       "      <td>0</td>\n",
       "      <td>No</td>\n",
       "      <td>No</td>\n",
       "      <td>34.0</td>\n",
       "      <td>Yes</td>\n",
       "      <td>No</td>\n",
       "      <td>DSL</td>\n",
       "      <td>Yes</td>\n",
       "      <td>No</td>\n",
       "      <td>Yes</td>\n",
       "      <td>No</td>\n",
       "      <td>No</td>\n",
       "      <td>No</td>\n",
       "      <td>One year</td>\n",
       "      <td>No</td>\n",
       "      <td>Mailed check</td>\n",
       "      <td>56.95</td>\n",
       "      <td>1889.50</td>\n",
       "      <td>No</td>\n",
       "    </tr>\n",
       "    <tr>\n",
       "      <th>2</th>\n",
       "      <td>202006</td>\n",
       "      <td>45366876421</td>\n",
       "      <td>Male</td>\n",
       "      <td>0</td>\n",
       "      <td>No</td>\n",
       "      <td>No</td>\n",
       "      <td>2.0</td>\n",
       "      <td>Yes</td>\n",
       "      <td>No</td>\n",
       "      <td>DSL</td>\n",
       "      <td>Yes</td>\n",
       "      <td>Yes</td>\n",
       "      <td>No</td>\n",
       "      <td>No</td>\n",
       "      <td>No</td>\n",
       "      <td>No</td>\n",
       "      <td>Month-to-month</td>\n",
       "      <td>Yes</td>\n",
       "      <td>Mailed check</td>\n",
       "      <td>53.85</td>\n",
       "      <td>108.15</td>\n",
       "      <td>Yes</td>\n",
       "    </tr>\n",
       "    <tr>\n",
       "      <th>3</th>\n",
       "      <td>202006</td>\n",
       "      <td>45779536532</td>\n",
       "      <td>Male</td>\n",
       "      <td>0</td>\n",
       "      <td>No</td>\n",
       "      <td>No</td>\n",
       "      <td>45.0</td>\n",
       "      <td>No</td>\n",
       "      <td>No phone service</td>\n",
       "      <td>DSL</td>\n",
       "      <td>Yes</td>\n",
       "      <td>No</td>\n",
       "      <td>Yes</td>\n",
       "      <td>Yes</td>\n",
       "      <td>No</td>\n",
       "      <td>No</td>\n",
       "      <td>One year</td>\n",
       "      <td>No</td>\n",
       "      <td>Bank transfer (automatic)</td>\n",
       "      <td>42.30</td>\n",
       "      <td>1840.75</td>\n",
       "      <td>No</td>\n",
       "    </tr>\n",
       "    <tr>\n",
       "      <th>4</th>\n",
       "      <td>202006</td>\n",
       "      <td>45923787906</td>\n",
       "      <td>Female</td>\n",
       "      <td>0</td>\n",
       "      <td>No</td>\n",
       "      <td>No</td>\n",
       "      <td>2.0</td>\n",
       "      <td>Yes</td>\n",
       "      <td>No</td>\n",
       "      <td>Fiber optic</td>\n",
       "      <td>No</td>\n",
       "      <td>No</td>\n",
       "      <td>No</td>\n",
       "      <td>No</td>\n",
       "      <td>No</td>\n",
       "      <td>No</td>\n",
       "      <td>Month-to-month</td>\n",
       "      <td>Yes</td>\n",
       "      <td>Electronic check</td>\n",
       "      <td>70.70</td>\n",
       "      <td>151.65</td>\n",
       "      <td>Yes</td>\n",
       "    </tr>\n",
       "  </tbody>\n",
       "</table>\n",
       "</div>"
      ],
      "text/plain": [
       "   UpdatedAt   customerID  gender  SeniorCitizen Partner Dependents  tenure  \\\n",
       "0     202006  45759018157  Female              0     Yes         No     1.0   \n",
       "1     202006  45557574145    Male              0      No         No    34.0   \n",
       "2     202006  45366876421    Male              0      No         No     2.0   \n",
       "3     202006  45779536532    Male              0      No         No    45.0   \n",
       "4     202006  45923787906  Female              0      No         No     2.0   \n",
       "\n",
       "  PhoneService     MultipleLines InternetService OnlineSecurity OnlineBackup  \\\n",
       "0           No  No phone service             DSL             No          Yes   \n",
       "1          Yes                No             DSL            Yes           No   \n",
       "2          Yes                No             DSL            Yes          Yes   \n",
       "3           No  No phone service             DSL            Yes           No   \n",
       "4          Yes                No     Fiber optic             No           No   \n",
       "\n",
       "  DeviceProtection TechSupport StreamingTV StreamingMovies        Contract  \\\n",
       "0               No          No          No              No  Month-to-month   \n",
       "1              Yes          No          No              No        One year   \n",
       "2               No          No          No              No  Month-to-month   \n",
       "3              Yes         Yes          No              No        One year   \n",
       "4               No          No          No              No  Month-to-month   \n",
       "\n",
       "  PaperlessBilling              PaymentMethod  MonthlyCharges  TotalCharges  \\\n",
       "0              Yes           Electronic check           29.85         29.85   \n",
       "1               No               Mailed check           56.95       1889.50   \n",
       "2              Yes               Mailed check           53.85        108.15   \n",
       "3               No  Bank transfer (automatic)           42.30       1840.75   \n",
       "4              Yes           Electronic check           70.70        151.65   \n",
       "\n",
       "  Churn  \n",
       "0    No  \n",
       "1    No  \n",
       "2   Yes  \n",
       "3    No  \n",
       "4   Yes  "
      ]
     },
     "execution_count": 4,
     "metadata": {},
     "output_type": "execute_result"
    }
   ],
   "source": [
    "#display top 5 data\n",
    "df_load.head()"
   ]
  },
  {
   "cell_type": "code",
   "execution_count": 5,
   "metadata": {},
   "outputs": [
    {
     "data": {
      "text/plain": [
       "7017"
      ]
     },
     "execution_count": 5,
     "metadata": {},
     "output_type": "execute_result"
    }
   ],
   "source": [
    "#The number of unique ID\n",
    "df_load.customerID.nunique()"
   ]
  },
  {
   "cell_type": "markdown",
   "metadata": {},
   "source": [
    "## Validating the Customer ID Number"
   ]
  },
  {
   "cell_type": "markdown",
   "metadata": {},
   "source": [
    "### Filtering Customer ID Number with Specific Format\n",
    "Search the correct customer ID number format (phone number), with the following criteria:\n",
    "- The length of a character is 11-12.\n",
    "- Consists of Numbers Only.\n",
    "- The first 2 digits of customerID is 45"
   ]
  },
  {
   "cell_type": "code",
   "execution_count": 6,
   "metadata": {},
   "outputs": [
    {
     "name": "stdout",
     "output_type": "stream",
     "text": [
      "The number of filtered Customer ID is 7006\n"
     ]
    }
   ],
   "source": [
    "df_load['valid_id'] = df_load['customerID'].astype(str).str.match(r'(45\\d{9,10})')\n",
    "df_load = (df_load[df_load['valid_id'] == True]).drop('valid_id',axis = 1)\n",
    "print('The number of filtered Customer ID is', df_load['customerID'].count())"
   ]
  },
  {
   "cell_type": "markdown",
   "metadata": {},
   "source": [
    "### Filtering Duplicate Customer ID Number\n",
    "Ensure that there are no duplicate ID. The type of duplication is:\n",
    "- Duplication due to inserting exceeds once with the same value for every column\n",
    "- Duplication due to inserting different data collection periods"
   ]
  },
  {
   "cell_type": "code",
   "execution_count": 7,
   "metadata": {},
   "outputs": [
    {
     "name": "stdout",
     "output_type": "stream",
     "text": [
      "The number of distinct customer ID is 6993\n"
     ]
    }
   ],
   "source": [
    "# Drop Duplicate Rows\n",
    "df_load.drop_duplicates()\n",
    "# Drop duplicate ID sorted by Periode\n",
    "df_load = df_load.sort_values('UpdatedAt', ascending=False).drop_duplicates(['customerID'])\n",
    "print('The number of distinct customer ID is',df_load['customerID'].count())"
   ]
  },
  {
   "cell_type": "markdown",
   "metadata": {},
   "source": [
    "### Summary\n",
    "\n",
    "The validity of the customer ID number is very necessary to ensure that the data we have collected is correct. Based on these results, there are differences in the number of ID numbers from the first data loaded up to the final results. The number of data rows when first loaded was 7113 rows and 22 columns with 7017 unique ID. Then after checking the validity of the customer ID, there are only 6993 rows of data left."
   ]
  },
  {
   "cell_type": "markdown",
   "metadata": {},
   "source": [
    "## Handling Missing Values\n",
    "### Handling Missing Values\n",
    "Next, we will eleminate rows from data that are not detected whether churn or not. We only accepts data that has the churn flag or not."
   ]
  },
  {
   "cell_type": "code",
   "execution_count": 8,
   "metadata": {},
   "outputs": [
    {
     "name": "stdout",
     "output_type": "stream",
     "text": [
      "The number of missing values from the Churn column is 43\n",
      "The number of rows and columns after deleting data with missing value is  (6950, 22)\n"
     ]
    }
   ],
   "source": [
    "print('The number of missing values from the Churn column is',df_load['Churn'].isnull().sum())\n",
    "# Dropping all Rows with spesific column (churn)\n",
    "df_load.dropna(subset=['Churn'],inplace=True)\n",
    "print('The number of rows and columns after deleting data with missing value is ',df_load.shape)"
   ]
  },
  {
   "cell_type": "markdown",
   "metadata": {},
   "source": [
    "### Handling Missing Values with Imputation\n",
    "We will fill the missing value with following criteria:\n",
    "- Missing values Tenure fill with 11\n",
    "- Missing values numeric variable except Tenure fill with median of the non-missing values in each columns"
   ]
  },
  {
   "cell_type": "code",
   "execution_count": 9,
   "metadata": {},
   "outputs": [
    {
     "name": "stdout",
     "output_type": "stream",
     "text": [
      "Status Missing Values : True\n",
      "\n",
      "The number of Missing Values for each columns:\n",
      "tenure              99\n",
      "MonthlyCharges      26\n",
      "TotalCharges        15\n",
      "Churn                0\n",
      "InternetService      0\n",
      "customerID           0\n",
      "gender               0\n",
      "SeniorCitizen        0\n",
      "Partner              0\n",
      "Dependents           0\n",
      "PhoneService         0\n",
      "MultipleLines        0\n",
      "OnlineSecurity       0\n",
      "OnlineBackup         0\n",
      "DeviceProtection     0\n",
      "TechSupport          0\n",
      "StreamingTV          0\n",
      "StreamingMovies      0\n",
      "Contract             0\n",
      "PaperlessBilling     0\n",
      "PaymentMethod        0\n",
      "UpdatedAt            0\n",
      "dtype: int64\n",
      "\n",
      "The number of Missing Value after imputation:\n",
      "Churn               0\n",
      "TotalCharges        0\n",
      "customerID          0\n",
      "gender              0\n",
      "SeniorCitizen       0\n",
      "Partner             0\n",
      "Dependents          0\n",
      "tenure              0\n",
      "PhoneService        0\n",
      "MultipleLines       0\n",
      "InternetService     0\n",
      "OnlineSecurity      0\n",
      "OnlineBackup        0\n",
      "DeviceProtection    0\n",
      "TechSupport         0\n",
      "StreamingTV         0\n",
      "StreamingMovies     0\n",
      "Contract            0\n",
      "PaperlessBilling    0\n",
      "PaymentMethod       0\n",
      "MonthlyCharges      0\n",
      "UpdatedAt           0\n",
      "dtype: int64\n"
     ]
    }
   ],
   "source": [
    "print('Status Missing Values :',df_load.isnull().values.any())\n",
    "print('\\nThe number of Missing Values for each columns:')\n",
    "print(df_load.isnull().sum().sort_values(ascending=False))\n",
    "\n",
    "# handling missing values Tenure fill with 11\n",
    "df_load['tenure'].fillna(11, inplace=True)\n",
    "\n",
    "# Handling missing values num vars (except Tenure)\n",
    "for col_name in list(['MonthlyCharges','TotalCharges']):\n",
    "    median = df_load[col_name].median()\n",
    "    df_load[col_name].fillna(median, inplace=True)\n",
    "    \n",
    "print('\\nThe number of Missing Value after imputation:')\n",
    "print(df_load.isnull().sum().sort_values(ascending=False))"
   ]
  },
  {
   "cell_type": "markdown",
   "metadata": {},
   "source": [
    "### Summary\n",
    "After further analysis, it turns out there are still Missing Values from the data that we have validated the Customer ID Number. Missing values are in the Churn, tenure, MonthlyCharges & TotalCharges columns. After we handle by eliminating rows and filling rows with certain values, it is proven that there are no missing values in the data anymore, as evidenced by the number of missing values for each variable that is 0."
   ]
  },
  {
   "cell_type": "markdown",
   "metadata": {},
   "source": [
    "## Handling Outlier\n",
    "### Detecting Outlier with Boxplot\n",
    "The most common graphical ways of detecting outliers is the boxplot. Box plot is a method for graphically depicting groups of numerical data through their quartiles. Box plots may also have lines extending vertically from the boxes (whiskers) indicating variability outside the upper and lower quartiles."
   ]
  },
  {
   "cell_type": "code",
   "execution_count": 10,
   "metadata": {},
   "outputs": [
    {
     "name": "stdout",
     "output_type": "stream",
     "text": [
      "Distribution of data before handled by Outlier: \n",
      "\n",
      "            tenure  MonthlyCharges  TotalCharges\n",
      "count  6950.000000     6950.000000   6950.000000\n",
      "mean     32.477266       65.783741   2305.083460\n",
      "std      25.188910       50.457871   2578.651143\n",
      "min       0.000000        0.000000     19.000000\n",
      "25%       9.000000       36.462500    406.975000\n",
      "50%      29.000000       70.450000   1400.850000\n",
      "75%      55.000000       89.850000   3799.837500\n",
      "max     500.000000     2311.000000  80000.000000\n"
     ]
    },
    {
     "data": {
      "image/png": "[encoded data removed]",
      "text/plain": [
       "<Figure size 432x288 with 1 Axes>"
      ]
     },
     "metadata": {
      "needs_background": "light"
     },
     "output_type": "display_data"
    },
    {
     "data": {
      "image/png": "[encoded data removed]",
      "text/plain": [
       "<Figure size 432x288 with 1 Axes>"
      ]
     },
     "metadata": {
      "needs_background": "light"
     },
     "output_type": "display_data"
    },
    {
     "data": {
      "image/png": "[encoded data removed]",
      "text/plain": [
       "<Figure size 432x288 with 1 Axes>"
      ]
     },
     "metadata": {
      "needs_background": "light"
     },
     "output_type": "display_data"
    }
   ],
   "source": [
    "print('Distribution of data before handled by Outlier: \\n')\n",
    "print(df_load[['tenure','MonthlyCharges','TotalCharges']].describe())\n",
    "\n",
    "plt.figure()\n",
    "sns.boxplot(x=df_load['tenure'])\n",
    "plt.show()\n",
    "\n",
    "plt.figure()\n",
    "sns.boxplot(x=df_load['MonthlyCharges'])\n",
    "plt.show()\n",
    "\n",
    "plt.figure()\n",
    "sns.boxplot(x=df_load['TotalCharges'])\n",
    "plt.show()"
   ]
  },
  {
   "cell_type": "markdown",
   "metadata": {},
   "source": [
    "### Handling Outlier\n",
    "After we know which variables that have outliers, handle it using the interquartile range (IQR) method."
   ]
  },
  {
   "cell_type": "code",
   "execution_count": 11,
   "metadata": {},
   "outputs": [
    {
     "name": "stdout",
     "output_type": "stream",
     "text": [
      "Maximum value for each columns is: \n",
      "tenure             124.00000\n",
      "MonthlyCharges     169.93125\n",
      "TotalCharges      8889.13125\n",
      "dtype: float64\n",
      "\n",
      "Minimum value for each columns is: \n",
      "tenure             -60.00000\n",
      "MonthlyCharges     -43.61875\n",
      "TotalCharges     -4682.31875\n",
      "dtype: float64\n",
      "\n",
      "Distribution of data after handled by Outlier: \n",
      "            tenure  MonthlyCharges  TotalCharges\n",
      "count  6950.000000     6950.000000   6950.000000\n",
      "mean     32.423165       64.992201   2286.058750\n",
      "std      24.581073       30.032040   2265.702553\n",
      "min       0.000000        0.000000     19.000000\n",
      "25%       9.000000       36.462500    406.975000\n",
      "50%      29.000000       70.450000   1400.850000\n",
      "75%      55.000000       89.850000   3799.837500\n",
      "max     124.000000      169.931250   8889.131250\n"
     ]
    },
    {
     "data": {
      "image/png": "[encoded data removed]",
      "text/plain": [
       "<Figure size 432x288 with 1 Axes>"
      ]
     },
     "metadata": {
      "needs_background": "light"
     },
     "output_type": "display_data"
    },
    {
     "data": {
      "image/png": "[encoded data removed]",
      "text/plain": [
       "<Figure size 432x288 with 1 Axes>"
      ]
     },
     "metadata": {
      "needs_background": "light"
     },
     "output_type": "display_data"
    },
    {
     "data": {
      "image/png": "[encoded data removed]",
      "text/plain": [
       "<Figure size 432x288 with 1 Axes>"
      ]
     },
     "metadata": {
      "needs_background": "light"
     },
     "output_type": "display_data"
    }
   ],
   "source": [
    "# Handling with IQR\n",
    "Q1 = (df_load[['tenure','MonthlyCharges','TotalCharges']]).quantile(0.25)\n",
    "Q3 = (df_load[['tenure','MonthlyCharges','TotalCharges']]).quantile(0.75)\n",
    "\n",
    "IQR = Q3 - Q1\n",
    "maximum = Q3 + (1.5*IQR)\n",
    "print('Maximum value for each columns is: ')\n",
    "print(maximum)\n",
    "minimum = Q1 - (1.5*IQR)\n",
    "print('\\nMinimum value for each columns is: ')\n",
    "print(minimum)\n",
    "\n",
    "df_load['tenure'].mask(df_load['tenure'] > maximum['tenure'], maximum['tenure'], inplace = True)\n",
    "df_load['MonthlyCharges'].mask(df_load['MonthlyCharges'] > maximum['MonthlyCharges'], maximum['MonthlyCharges'], inplace = True)\n",
    "df_load['TotalCharges'].mask(df_load['TotalCharges'] > maximum['TotalCharges'], maximum['TotalCharges'], inplace = True)\n",
    "\n",
    "print('\\nDistribution of data after handled by Outlier: ')\n",
    "print(df_load[['tenure','MonthlyCharges','TotalCharges']].describe())\n",
    "\n",
    "plt.figure()\n",
    "sns.boxplot(x=df_load['tenure'])\n",
    "plt.show()\n",
    "\n",
    "plt.figure()\n",
    "sns.boxplot(x=df_load['MonthlyCharges'])\n",
    "plt.show()\n",
    "\n",
    "plt.figure()\n",
    "sns.boxplot(x=df_load['TotalCharges'])\n",
    "plt.show()"
   ]
  },
  {
   "cell_type": "markdown",
   "metadata": {},
   "source": [
    "### Summary\n",
    "From the three boxplots with the variable 'tenure', 'MonthlyCharges' & 'TotalCharges' we can look that there are outliers. This can be identified from the points that far away from the boxplot.\n",
    "\n",
    "Then the outlier value is handled by changing that value to the Maximum & Minimum value of the interquartile range (IQR). After handling the outliers, and looking at the details of the data, there are no outlier values."
   ]
  },
  {
   "cell_type": "markdown",
   "metadata": {},
   "source": [
    "## Standardize Values\n",
    "### Detecting non standard value\n",
    "Detecting whether there are values from non-standard categorical variables. Usually this cases occurs because data entry mistakes. The difference of term is one of the factors, so we need to standardize the data."
   ]
  },
  {
   "cell_type": "code",
   "execution_count": 12,
   "metadata": {},
   "outputs": [
    {
     "name": "stdout",
     "output_type": "stream",
     "text": [
      "\n",
      "Unique Values Count \u001b[1mBefore Standardized \u001b[0mVariable gender\n",
      "Male         3499\n",
      "Female       3431\n",
      "Wanita         14\n",
      "Laki-Laki       6\n",
      "Name: gender, dtype: int64\n",
      "\n",
      "Unique Values Count \u001b[1mBefore Standardized \u001b[0mVariable SeniorCitizen\n",
      "0    5822\n",
      "1    1128\n",
      "Name: SeniorCitizen, dtype: int64\n",
      "\n",
      "Unique Values Count \u001b[1mBefore Standardized \u001b[0mVariable Partner\n",
      "No     3591\n",
      "Yes    3359\n",
      "Name: Partner, dtype: int64\n",
      "\n",
      "Unique Values Count \u001b[1mBefore Standardized \u001b[0mVariable Dependents\n",
      "No     4870\n",
      "Yes    2060\n",
      "Iya      20\n",
      "Name: Dependents, dtype: int64\n",
      "\n",
      "Unique Values Count \u001b[1mBefore Standardized \u001b[0mVariable PhoneService\n",
      "Yes    6281\n",
      "No      669\n",
      "Name: PhoneService, dtype: int64\n",
      "\n",
      "Unique Values Count \u001b[1mBefore Standardized \u001b[0mVariable MultipleLines\n",
      "No                  3346\n",
      "Yes                 2935\n",
      "No phone service     669\n",
      "Name: MultipleLines, dtype: int64\n",
      "\n",
      "Unique Values Count \u001b[1mBefore Standardized \u001b[0mVariable InternetService\n",
      "Fiber optic    3057\n",
      "DSL            2388\n",
      "No             1505\n",
      "Name: InternetService, dtype: int64\n",
      "\n",
      "Unique Values Count \u001b[1mBefore Standardized \u001b[0mVariable OnlineSecurity\n",
      "No                     3454\n",
      "Yes                    1991\n",
      "No internet service    1505\n",
      "Name: OnlineSecurity, dtype: int64\n",
      "\n",
      "Unique Values Count \u001b[1mBefore Standardized \u001b[0mVariable OnlineBackup\n",
      "No                     3045\n",
      "Yes                    2400\n",
      "No internet service    1505\n",
      "Name: OnlineBackup, dtype: int64\n",
      "\n",
      "Unique Values Count \u001b[1mBefore Standardized \u001b[0mVariable DeviceProtection\n",
      "No                     3054\n",
      "Yes                    2391\n",
      "No internet service    1505\n",
      "Name: DeviceProtection, dtype: int64\n",
      "\n",
      "Unique Values Count \u001b[1mBefore Standardized \u001b[0mVariable TechSupport\n",
      "No                     3431\n",
      "Yes                    2014\n",
      "No internet service    1505\n",
      "Name: TechSupport, dtype: int64\n",
      "\n",
      "Unique Values Count \u001b[1mBefore Standardized \u001b[0mVariable StreamingTV\n",
      "No                     2774\n",
      "Yes                    2671\n",
      "No internet service    1505\n",
      "Name: StreamingTV, dtype: int64\n",
      "\n",
      "Unique Values Count \u001b[1mBefore Standardized \u001b[0mVariable StreamingMovies\n",
      "No                     2747\n",
      "Yes                    2698\n",
      "No internet service    1505\n",
      "Name: StreamingMovies, dtype: int64\n",
      "\n",
      "Unique Values Count \u001b[1mBefore Standardized \u001b[0mVariable Contract\n",
      "Month-to-month    3823\n",
      "Two year          1670\n",
      "One year          1457\n",
      "Name: Contract, dtype: int64\n",
      "\n",
      "Unique Values Count \u001b[1mBefore Standardized \u001b[0mVariable PaperlessBilling\n",
      "Yes    4114\n",
      "No     2836\n",
      "Name: PaperlessBilling, dtype: int64\n",
      "\n",
      "Unique Values Count \u001b[1mBefore Standardized \u001b[0mVariable PaymentMethod\n",
      "Electronic check             2337\n",
      "Mailed check                 1594\n",
      "Bank transfer (automatic)    1519\n",
      "Credit card (automatic)      1500\n",
      "Name: PaymentMethod, dtype: int64\n",
      "\n",
      "Unique Values Count \u001b[1mBefore Standardized \u001b[0mVariable Churn\n",
      "No       5114\n",
      "Yes      1827\n",
      "Churn       9\n",
      "Name: Churn, dtype: int64\n"
     ]
    }
   ],
   "source": [
    "# Input variable\n",
    "for col_name in list(['gender','SeniorCitizen','Partner','Dependents','PhoneService','MultipleLines','InternetService','OnlineSecurity','OnlineBackup','DeviceProtection','TechSupport','StreamingTV','StreamingMovies','Contract','PaperlessBilling','PaymentMethod','Churn']):\n",
    "\n",
    "    print('\\nUnique Values Count \\033[1m' + 'Before Standardized \\033[0mVariable',col_name)\n",
    "    print(df_load[col_name].value_counts())"
   ]
  },
  {
   "cell_type": "markdown",
   "metadata": {},
   "source": [
    "### Standardized categorical variable\n",
    "After we know which variables that have non-standard values, then we have to standardize it with the most values term, without changing the meaning. Example: Iya -> Yes. Then look again the unique values of each variable that has been changed."
   ]
  },
  {
   "cell_type": "code",
   "execution_count": 13,
   "metadata": {},
   "outputs": [
    {
     "name": "stdout",
     "output_type": "stream",
     "text": [
      "\n",
      "Unique Values Count \u001b[1mAfter Standardized \u001b[0mVariable gender\n",
      "Male      3505\n",
      "Female    3445\n",
      "Name: gender, dtype: int64\n",
      "\n",
      "Unique Values Count \u001b[1mAfter Standardized \u001b[0mVariable Dependents\n",
      "No     4870\n",
      "Yes    2080\n",
      "Name: Dependents, dtype: int64\n",
      "\n",
      "Unique Values Count \u001b[1mAfter Standardized \u001b[0mVariable Churn\n",
      "No     5114\n",
      "Yes    1836\n",
      "Name: Churn, dtype: int64\n"
     ]
    }
   ],
   "source": [
    "df_load = df_load.replace(['Wanita','Laki-Laki','Churn','Iya'],['Female','Male','Yes','Yes'])\n",
    "\n",
    "# input variable\n",
    "for col_name in list(['gender','Dependents','Churn']):\n",
    "    print('\\nUnique Values Count \\033[1m' + 'After Standardized \\033[0mVariable',col_name)\n",
    "    print(df_load[col_name].value_counts())"
   ]
  },
  {
   "cell_type": "markdown",
   "metadata": {},
   "source": [
    "### Summary\n",
    "We can see that there are some non-standard variables. These variables are:\n",
    "- Gender (Female, Male, Wanita, Laki-Laki), which can be standardized become (Female, Male).\n",
    "- Dependents (Yes, No, Iya), can be standardized become(Yes, No).\n",
    "- Churn (Yes, No, Churn), can be standardized become(Yes, No).\n",
    "\n",
    "After we standardize the values, now dataset ready to use."
   ]
  }
 ],
 "metadata": {
  "kernelspec": {
   "display_name": "Python 3",
   "language": "python",
   "name": "python3"
  },
  "language_info": {
   "codemirror_mode": {
    "name": "ipython",
    "version": 3
   },
   "file_extension": ".py",
   "mimetype": "text/x-python",
   "name": "python",
   "nbconvert_exporter": "python",
   "pygments_lexer": "ipython3",
   "version": "3.7.3"
  }
 },
 "nbformat": 4,
 "nbformat_minor": 2
}
